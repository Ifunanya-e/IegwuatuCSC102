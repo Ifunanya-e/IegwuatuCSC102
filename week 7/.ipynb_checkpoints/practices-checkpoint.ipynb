{
 "cells": [
  {
   "cell_type": "code",
   "execution_count": 2,
   "id": "5b7f2208",
   "metadata": {},
   "outputs": [
    {
     "name": "stdout",
     "output_type": "stream",
     "text": [
      "I'm first call to user defined function!\n",
      "Again second call to the same function\n"
     ]
    }
   ],
   "source": [
    "# practice 1\n",
    "def printme(str):\n",
    "    #This is a print function\n",
    "    print (str);\n",
    "    \n",
    "printme(\"I'm first call to user defined function!\")\n",
    "printme(\"Again second call to the same function\")"
   ]
  },
  {
   "cell_type": "code",
   "execution_count": 5,
   "id": "13d2e282",
   "metadata": {},
   "outputs": [
    {
     "name": "stdout",
     "output_type": "stream",
     "text": [
      "Values inside the function: [10, 20, 30, [1, 2, 3, 4]]\n",
      "Values inside the function:  [10, 20, 30, [1, 2, 3, 4]]\n"
     ]
    }
   ],
   "source": [
    "#practice 2\n",
    "def changeme(mylist):\n",
    "    #This changes a passed list\n",
    "    mylist.append([1,2,3,4])\n",
    "    print(\"Values inside the function:\",mylist)\n",
    "    return\n",
    "mylist = [10,20,30]\n",
    "changeme(mylist)\n",
    "print(\"Values outside the function: \",mylist)"
   ]
  },
  {
   "cell_type": "code",
   "execution_count": 7,
   "id": "14c7130c",
   "metadata": {},
   "outputs": [
    {
     "name": "stdout",
     "output_type": "stream",
     "text": [
      "Values inside the function: [1, 2, 3, 4]\n",
      "Values inside the function:  [10, 20, 30]\n"
     ]
    }
   ],
   "source": [
    "#practice 3\n",
    "def changeme(mylist):\n",
    "    #This changes a passed list\n",
    "    mylist = [1,2,3,4]\n",
    "    print(\"Values inside the function:\",mylist)\n",
    "    return\n",
    "mylist = [10,20,30]\n",
    "changeme(mylist)\n",
    "print(\"Values outside the function: \",mylist)"
   ]
  },
  {
   "cell_type": "code",
   "execution_count": 13,
   "id": "66a4323d",
   "metadata": {},
   "outputs": [
    {
     "name": "stdout",
     "output_type": "stream",
     "text": [
      "My string\n"
     ]
    }
   ],
   "source": [
    "#practice 4\n",
    "def printme(str):\n",
    "    #This prints a passed string\n",
    "    print (str)\n",
    "    return\n",
    "printme(str = \"My string\");"
   ]
  },
  {
   "cell_type": "code",
   "execution_count": 14,
   "id": "71e0928b",
   "metadata": {},
   "outputs": [
    {
     "name": "stdout",
     "output_type": "stream",
     "text": [
      "Name: Miki\n",
      "Age: 50\n"
     ]
    }
   ],
   "source": [
    "#practice 5\n",
    "def printinfo(name, age):\n",
    "    #Test function\n",
    "    print (\"Name:\",name)\n",
    "    print (\"Age:\",age)\n",
    "    return\n",
    "printinfo(age = 50, name = \"Miki\")"
   ]
  },
  {
   "cell_type": "code",
   "execution_count": 15,
   "id": "4a8e7e9b",
   "metadata": {},
   "outputs": [
    {
     "name": "stdout",
     "output_type": "stream",
     "text": [
      "Name: Miki\n",
      "Age: 50\n",
      "Name: miki\n",
      "Age: 35\n"
     ]
    }
   ],
   "source": [
    "#practice 6\n",
    "def printinfo(name, age = 35):\n",
    "    #Test function\n",
    "    print (\"Name:\",name)\n",
    "    print (\"Age:\",age)\n",
    "    return\n",
    "printinfo(age = 50, name = \"Miki\")\n",
    "printinfo(name = \"miki\")"
   ]
  },
  {
   "cell_type": "code",
   "execution_count": 20,
   "id": "0d309d5d",
   "metadata": {},
   "outputs": [
    {
     "name": "stdout",
     "output_type": "stream",
     "text": [
      "Output is: \n",
      "10\n",
      "Output is: \n",
      "70\n",
      "60\n",
      "50\n"
     ]
    }
   ],
   "source": [
    "#practice 7\n",
    "def printinfo(arg1, *vartuple):\n",
    "    #This is test\n",
    "    print(\"Output is: \")\n",
    "    print(arg1)\n",
    "    for var in vartuple:\n",
    "        print (var)\n",
    "    return\n",
    "printinfo(10)\n",
    "printinfo(70,60,50)"
   ]
  },
  {
   "cell_type": "code",
   "execution_count": 22,
   "id": "982fa40a",
   "metadata": {},
   "outputs": [
    {
     "name": "stdout",
     "output_type": "stream",
     "text": [
      "Inside the function local total :  30\n",
      "Outside the function global total : 50\n"
     ]
    }
   ],
   "source": [
    "#practice 8\n",
    "total = 50 #This is global variable\n",
    "def sum(arg1, arg2):\n",
    "    # Add both the parameters\n",
    "    total = arg1 + arg2\n",
    "    print(\"Inside the function local total : \" , total)\n",
    "    return total\n",
    "# Now you can call sum function\n",
    "sum(10,20)\n",
    "print(\"Outside the function global total :\", total)"
   ]
  },
  {
   "cell_type": "code",
   "execution_count": 23,
   "id": "9347710c",
   "metadata": {},
   "outputs": [
    {
     "name": "stdout",
     "output_type": "stream",
     "text": [
      "Lawal Edward Tolu Tina\n",
      "Mary\n"
     ]
    }
   ],
   "source": [
    "# practice 9\n",
    "def swap(x,y):\n",
    "    global a\n",
    "    a = \"Lawal\"\n",
    "    x,y = y,x\n",
    "    b = \"Chris\"\n",
    "    b = \"Edward\"\n",
    "    c = \"Lola\"\n",
    "    print (a,b,x,y)\n",
    "    a = \"Mary\"\n",
    "swap(\"Tina\", \"Tolu\")\n",
    "print (a)"
   ]
  },
  {
   "cell_type": "code",
   "execution_count": null,
   "id": "f806198f",
   "metadata": {},
   "outputs": [],
   "source": []
  }
 ],
 "metadata": {
  "kernelspec": {
   "display_name": "Python 3 (ipykernel)",
   "language": "python",
   "name": "python3"
  },
  "language_info": {
   "codemirror_mode": {
    "name": "ipython",
    "version": 3
   },
   "file_extension": ".py",
   "mimetype": "text/x-python",
   "name": "python",
   "nbconvert_exporter": "python",
   "pygments_lexer": "ipython3",
   "version": "3.10.9"
  }
 },
 "nbformat": 4,
 "nbformat_minor": 5
}
