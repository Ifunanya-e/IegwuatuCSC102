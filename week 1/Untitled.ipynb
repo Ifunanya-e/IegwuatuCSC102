{
 "cells": [
  {
   "cell_type": "code",
   "execution_count": 4,
   "id": "2e0f6a81",
   "metadata": {},
   "outputs": [
    {
     "name": "stdout",
     "output_type": "stream",
     "text": [
      "100\n",
      "Data Type of variable num is <class 'int'>\n",
      "34.35\n",
      "Data Type of variable fnum is <class 'float'>\n",
      "(3+4j)\n",
      "Data Type of variable fnum is <class 'complex'>\n"
     ]
    }
   ],
   "source": [
    "# PRACTICE 1\n",
    "# Integer number\n",
    "num = 100\n",
    "print(num)\n",
    "print(\"Data Type of variable num is\", type(num))\n",
    "\n",
    "# float number\n",
    "fnum = 34.35\n",
    "print(fnum)\n",
    "print(\"Data Type of variable fnum is\", type(fnum))\n",
    "\n",
    "# complex number\n",
    "cnum = 3 + 4j\n",
    "print(cnum)\n",
    "print(\"Data Type of variable fnum is\", type(cnum))"
   ]
  },
  {
   "cell_type": "code",
   "execution_count": 3,
   "id": "94c6b413",
   "metadata": {},
   "outputs": [
    {
     "name": "stdout",
     "output_type": "stream",
     "text": [
      "Hi my name is Matthew. I am String\n",
      "<class 'str'>\n",
      "Hi my name is Precious. I am also a String\n",
      "<class 'str'>\n"
     ]
    }
   ],
   "source": [
    "# PRACTICE 2\n",
    "# Python program to print strings and types\n",
    "str1 = \"Hi my name is Matthew. I am String\"\n",
    "str2 = \"Hi my name is Precious. I am also a String\"\n",
    "\n",
    "# displaying string str1 and its type\n",
    "print(str1)\n",
    "print(type(str1))\n",
    "\n",
    "# displaying string str2 and its type\n",
    "print(str2)\n",
    "print(type(str2))\n"
   ]
  },
  {
   "cell_type": "code",
   "execution_count": 10,
   "id": "265da704",
   "metadata": {
    "scrolled": true
   },
   "outputs": [
    {
     "name": "stdout",
     "output_type": "stream",
     "text": [
      "Enter principal : 32\n",
      "Enter rate : 2.3\n",
      " Enter time : 22\n",
      "16.191999999999997\n",
      "The simple interest is 16.191999999999997\n"
     ]
    }
   ],
   "source": [
    "# CLASS PROJECT WEEK1\n",
    "# Python program to solve simple interest\n",
    "\n",
    "p = float(input(\"Enter principal : \"))\n",
    "r = float(input(\"Enter rate : \"))\n",
    "t = float(input(\" Enter time : \"))\n",
    "\n",
    "si = (p*r*t)/100\n",
    "print(si)\n",
    "print(\"The simple interest is\", si)"
   ]
  },
  {
   "cell_type": "code",
   "execution_count": 12,
   "id": "e58fc475",
   "metadata": {},
   "outputs": [
    {
     "name": "stdout",
     "output_type": "stream",
     "text": [
      "Enter principal : 22\n",
      "Enter rate : 3\n",
      "Enter time : 3\n",
      "Enter number of times interest per year : 3\n",
      "The compond interest is 11242.0\n"
     ]
    }
   ],
   "source": [
    "# CLASS PROJECT WEEK 1\n",
    "# Python program to solve compound interest\n",
    "\n",
    "p = float(input(\"Enter principal : \"))\n",
    "r = float(input(\"Enter rate : \"))\n",
    "t = float(input(\"Enter time : \"))\n",
    "n = float(input(\"Enter number of times interest per year : \"))\n",
    "\n",
    "amount = p*(pow((1 + r/n), n*t))\n",
    "ci = amount - p\n",
    "print(\"The compond interest is\", ci)"
   ]
  },
  {
   "cell_type": "code",
   "execution_count": 1,
   "id": "7d9d0e2d",
   "metadata": {},
   "outputs": [
    {
     "name": "stdout",
     "output_type": "stream",
     "text": [
      "Enter amount of payment : 22\n",
      "Enter rate : 23.2\n",
      "Enter time : 2\n",
      "Enter number of times interest per year : 2\n",
      "The annuity plan is 47800.191999999995\n"
     ]
    }
   ],
   "source": [
    "# CLASS PROJECT WEEK 1\n",
    "# Python program to solve annuity plan\n",
    "\n",
    "pmt = float(input(\"Enter amount of payment : \"))\n",
    "r = float(input(\"Enter rate : \"))\n",
    "t = float(input(\"Enter time : \"))\n",
    "n = float(input(\"Enter number of times interest per year : \"))\n",
    "\n",
    "ap = pmt*((pow((1 + r/n), n*t)) - 1)/r*n\n",
    "print(\"The annuity plan is\", ap)"
   ]
  },
  {
   "cell_type": "code",
   "execution_count": null,
   "id": "1a1b7f58",
   "metadata": {},
   "outputs": [],
   "source": []
  }
 ],
 "metadata": {
  "kernelspec": {
   "display_name": "Python 3 (ipykernel)",
   "language": "python",
   "name": "python3"
  },
  "language_info": {
   "codemirror_mode": {
    "name": "ipython",
    "version": 3
   },
   "file_extension": ".py",
   "mimetype": "text/x-python",
   "name": "python",
   "nbconvert_exporter": "python",
   "pygments_lexer": "ipython3",
   "version": "3.10.9"
  }
 },
 "nbformat": 4,
 "nbformat_minor": 5
}
