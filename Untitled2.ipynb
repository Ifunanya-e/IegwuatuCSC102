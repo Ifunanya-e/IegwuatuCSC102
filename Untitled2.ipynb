{
 "cells": [
  {
   "cell_type": "code",
   "execution_count": 2,
   "id": "aafb172f",
   "metadata": {
    "scrolled": true
   },
   "outputs": [
    {
     "name": "stdout",
     "output_type": "stream",
     "text": [
      "Welcome to the COUPE DE ESCRIVA 2023: FOOTBALL PICKS \n",
      "\n",
      "Madiba:  Chubby Obiora-Okafo\n",
      "Blue-Jays:  Christopher Umeh\n",
      "Cirok:  Alexander\n",
      "TSG Walkers: Ikechukwu\n",
      "\n",
      "\n",
      "Madiba:  Chubby Obiora-Okafo\n",
      "Blue-Jays:  Oladimeji Abaniwondea/Jeffery Awagu\n",
      "Cirok: Timileyin Pearse/Izuako Jeremy\n",
      "TSG Walkers:  Ayomide Ojituku\n"
     ]
    }
   ],
   "source": [
    "# EXCERCISE III\n",
    "\n",
    "# COUPE DE ESCRIVA 2023: FOOTBALL PICKS\n",
    "print(\"Welcome to the COUPE DE ESCRIVA 2023: FOOTBALL PICKS \\n\")\n",
    "\n",
    "captain = {'Madiba: ': 'Chubby Obiora-Okafo', 'Blue-Jays: ': 'Christopher Umeh', 'Cirok: ': 'Alexander', 'TSG Walkers:': 'Ikechukwu'}\n",
    "\n",
    "goalkeepers = {'Madiba: ': 'Chubby Obiora-Okafo',\n",
    "               'Blue-Jays: ': 'Oladimeji Abaniwondea/Jeffery Awagu',\n",
    "               'Cirok:': 'Timileyin Pearse/Izuako Jeremy',\n",
    "               'TSG Walkers: ': 'Ayomide Ojituku'}\n",
    "\n",
    "for pick in captain:\n",
    "     print(pick, captain[pick])\n",
    "        \n",
    "print(\"\\n\")\n",
    "\n",
    "for pick in goalkeepers:\n",
    "    print(pick, goalkeepers[pick])"
   ]
  },
  {
   "cell_type": "code",
   "execution_count": 28,
   "id": "0cf95ed4",
   "metadata": {
    "scrolled": true
   },
   "outputs": [
    {
     "name": "stdout",
     "output_type": "stream",
     "text": [
      "Name      Age       Height    Score     \n",
      "Samantha  17        5.5       80        \n",
      "Jada      16        6.0       85        \n",
      "Jane      17        5.4       70        \n",
      "Claire    18        5.9       60        \n",
      "Elizabeth 16        5.6       76        \n",
      "Mary      18        5.5       66        \n",
      "Susan     17        6.1       87        \n",
      "Waje      20        6.0       95        \n",
      "Taibat    19        5.7       50        \n",
      "Lilian    17        5.5       49        \n"
     ]
    }
   ],
   "source": [
    "# PROJECT 1\n",
    "\n",
    "# Girls data\n",
    "data = [\n",
    "         ['Samantha', 17, 5.5, 80],\n",
    "         ['Jada', 16, 6.0, 85],\n",
    "         ['Jane', 17, 5.4, 70],\n",
    "         ['Claire', 18, 5.9, 60],\n",
    "         ['Elizabeth', 16, 5.6, 76],\n",
    "         ['Mary', 18, 5.5, 66],\n",
    "         ['Susan', 17, 6.1, 87],\n",
    "         ['Waje', 20, 6.0, 95],\n",
    "         ['Taibat', 19, 5.7, 50],\n",
    "         ['Lilian', 17, 5.5, 49],        \n",
    " ]\n",
    "    \n",
    "heading = ['Name', 'Age', 'Height', 'Score']\n",
    "\n",
    "\n",
    "for col in heading:\n",
    "    print(f'{col:<10}', end='')\n",
    "    \n",
    "    \n",
    "print()\n",
    "        \n",
    "for row in data:\n",
    "    for col in row:\n",
    "        print(f'{col:<10}', end='')\n",
    "    print()    \n",
    "    \n",
    "    \n",
    "\n"
   ]
  },
  {
   "cell_type": "code",
   "execution_count": 27,
   "id": "86cddfd6",
   "metadata": {},
   "outputs": [
    {
     "name": "stdout",
     "output_type": "stream",
     "text": [
      "Name      Age       Height    Score     \n",
      "Charles   19        5.7       74        \n",
      "Jude      16        5.9       87        \n",
      "James     18        5.8       75        \n",
      "Kelvin    17        6.1       68        \n",
      "Biodun    20        5.9       66        \n",
      "Wale      19        5.5       78        \n",
      "Kunle     16        6.1       87        \n",
      "Matthew   18        5.4       98        \n",
      "Tom       17        5.8       54        \n",
      "Kayode    19        5.7       60        \n"
     ]
    }
   ],
   "source": [
    "# PROJECT 1\n",
    "# boys data\n",
    "\n",
    "data = [\n",
    "         ['Charles', 19, 5.7, 74],\n",
    "         ['Jude', 16, 5.9, 87],\n",
    "         ['James', 18, 5.8, 75],\n",
    "         ['Kelvin', 17, 6.1, 68],\n",
    "         ['Biodun', 20, 5.9, 66],\n",
    "         ['Wale', 19, 5.5, 78],\n",
    "         ['Kunle', 16, 6.1, 87],\n",
    "         ['Matthew', 18, 5.4, 98],\n",
    "         ['Tom', 17, 5.8, 54],\n",
    "         ['Kayode', 19, 5.7, 60],        \n",
    " ]\n",
    "    \n",
    "heading = ['Name', 'Age', 'Height', 'Score']\n",
    "\n",
    "\n",
    "for col in heading:\n",
    "    print(f'{col:<10}', end='')\n",
    "    \n",
    "    \n",
    "print()\n",
    "        \n",
    "for row in data:\n",
    "    for col in row:\n",
    "        print(f'{col:<10}', end='')\n",
    "    print()\n",
    "\n",
    "\n"
   ]
  },
  {
   "cell_type": "code",
   "execution_count": null,
   "id": "fb73ebcc",
   "metadata": {},
   "outputs": [],
   "source": []
  }
 ],
 "metadata": {
  "kernelspec": {
   "display_name": "Python 3 (ipykernel)",
   "language": "python",
   "name": "python3"
  },
  "language_info": {
   "codemirror_mode": {
    "name": "ipython",
    "version": 3
   },
   "file_extension": ".py",
   "mimetype": "text/x-python",
   "name": "python",
   "nbconvert_exporter": "python",
   "pygments_lexer": "ipython3",
   "version": "3.10.9"
  }
 },
 "nbformat": 4,
 "nbformat_minor": 5
}
